{
 "cells": [
  {
   "cell_type": "code",
   "execution_count": 4,
   "metadata": {
    "colab": {
     "base_uri": "https://localhost:8080/"
    },
    "id": "IXe106UdLg87",
    "outputId": "3a272eec-9341-4db6-dda9-597532f22d50"
   },
   "outputs": [],
   "source": [
    "#!pip install d2l\n",
    "#!pip install matplotlib\n",
    "#!pip install matplotlib_inline\n"
   ]
  },
  {
   "cell_type": "code",
   "execution_count": 5,
   "metadata": {
    "id": "9ein15aHMGSO"
   },
   "outputs": [],
   "source": [
    "%matplotlib inline\n",
    "import tensorflow as tf\n",
    "from d2l import tensorflow as d2l\n",
    "\n",
    "d2l.use_svg_display()"
   ]
  },
  {
   "cell_type": "code",
   "execution_count": 6,
   "metadata": {
    "colab": {
     "base_uri": "https://localhost:8080/"
    },
    "id": "aeMTl3anMUkl",
    "outputId": "2d1b06ca-dadb-4fd3-a54d-d677754424a5"
   },
   "outputs": [],
   "source": [
    "mnist_train, mnist_test = tf.keras.datasets.fashion_mnist.load_data()"
   ]
  },
  {
   "cell_type": "code",
   "execution_count": 7,
   "metadata": {
    "id": "-feOpJRZNl1_"
   },
   "outputs": [],
   "source": [
    "def get_fashion_mnist_labels(labels):\n",
    "    \"\"\"返回Fashion-MNIST数据集的文本标签\"\"\"\n",
    "    text_labels = ['t-shirt', 'trouser', 'pullover', 'dress', 'coat',\n",
    "                   'sandal', 'shirt', 'sneaker', 'bag', 'ankle boot']\n",
    "    return [text_labels[int(i)] for i in labels]"
   ]
  },
  {
   "cell_type": "code",
   "execution_count": 8,
   "metadata": {
    "id": "VFzkl_dmN3nq"
   },
   "outputs": [],
   "source": [
    "def load_data_fashion_mnist(batch_size, resize=None):\n",
    "    \"\"\"下载Fashion-MNIST数据集，然后将其加载到内存中\"\"\"\n",
    "    mnist_train, mnist_test = tf.keras.datasets.fashion_mnist.load_data()\n",
    "    # 将所有数字除以255，使所有像素值介于0和1之间，在最后添加一个批处理维度，\n",
    "    # 并将标签转换为int32。\n",
    "    process = lambda X, y: (tf.expand_dims(X, axis=3) / 255,\n",
    "                            tf.cast(y, dtype='int32'))\n",
    "    resize_fn = lambda X, y: (\n",
    "        tf.image.resize_with_pad(X, resize, resize) if resize else X, y)\n",
    "    return (\n",
    "        tf.data.Dataset.from_tensor_slices(process(*mnist_train)).batch(\n",
    "            batch_size).shuffle(len(mnist_train[0])).map(resize_fn),\n",
    "        tf.data.Dataset.from_tensor_slices(process(*mnist_test)).batch(\n",
    "            batch_size).map(resize_fn))"
   ]
  },
  {
   "cell_type": "code",
   "execution_count": 9,
   "metadata": {
    "id": "PcEhzc6WOMin"
   },
   "outputs": [],
   "source": [
    "n_features = 784\n",
    "n_labels = 10"
   ]
  },
  {
   "cell_type": "code",
   "execution_count": 10,
   "metadata": {
    "colab": {
     "base_uri": "https://localhost:8080/"
    },
    "id": "-mX0PjVJN_70",
    "outputId": "36380f44-b007-4d24-bd95-6534a15f2e3c"
   },
   "outputs": [
    {
     "name": "stdout",
     "output_type": "stream",
     "text": [
      "(256, 784) <dtype: 'float32'> (256,) <dtype: 'int32'>\n",
      "(256, 784) (256, 1)\n"
     ]
    }
   ],
   "source": [
    "train_iter, test_iter = load_data_fashion_mnist(256)\n",
    "for X, y in train_iter:\n",
    "    X = tf.reshape(X, (-1, n_features))\n",
    "    print(X.shape, X.dtype, y.shape, y.dtype)\n",
    "    X_exp = tf.exp(X)\n",
    "    partition = tf.reduce_sum(X_exp, 1, keepdims=True)\n",
    "    print(X_exp.shape, partition.shape)\n",
    "    break"
   ]
  },
  {
   "cell_type": "code",
   "execution_count": 11,
   "metadata": {
    "id": "xm0d9ZXBVxCa"
   },
   "outputs": [],
   "source": [
    "def softmax(X):\n",
    "    X_exp = tf.exp(X)\n",
    "    partition = tf.reduce_sum(X_exp, 1, keepdims=True)\n",
    "    return X_exp / partition"
   ]
  },
  {
   "cell_type": "code",
   "execution_count": 12,
   "metadata": {
    "id": "ANHTSEteONpm"
   },
   "outputs": [],
   "source": [
    "class Model(object):\n",
    "    def __init__(self, n_features, hidden_outputs, n_outputs):\n",
    "        self.w1 = tf.Variable(tf.random.normal(shape=[n_features, hidden_outputs], mean=0, stddev=0.01), trainable=True)\n",
    "        self.b1 = tf.Variable(tf.random.normal(shape=[hidden_outputs], mean=0, stddev=0.01), trainable=True)\n",
    "        self.w2 = tf.Variable(tf.random.normal(shape=[hidden_outputs, n_outputs], mean=0, stddev=0.01), trainable=True)\n",
    "        self.b2 = tf.Variable(tf.random.normal(shape=[n_outputs], mean=0, stddev=0.01), trainable=True)\n",
    "        self.trainable_variables = [self.w1, self.b1, self.w2, self.b2]\n",
    "    \n",
    "    def forward(self, X):\n",
    "        hidden = tf.nn.relu(tf.matmul(X, self.w1) + self.b1)\n",
    "        output = softmax(tf.matmul(hidden, self.w2) + self.b2)\n",
    "        return output"
   ]
  },
  {
   "cell_type": "code",
   "execution_count": 13,
   "metadata": {
    "id": "QXUC_YEWXPPe"
   },
   "outputs": [],
   "source": [
    "def loss(y_pred, y, n_labels):\n",
    "    return -tf.math.log(tf.boolean_mask(y_pred, tf.one_hot(y, depth=n_labels)))"
   ]
  },
  {
   "cell_type": "code",
   "execution_count": 14,
   "metadata": {
    "id": "AMAZ135HYMDI"
   },
   "outputs": [],
   "source": [
    "def sgd(params, grads, lr, batch_size):\n",
    "    for param, grad in zip(params, grads):\n",
    "        param.assign_sub(lr*grad/batch_size)"
   ]
  },
  {
   "cell_type": "code",
   "execution_count": 15,
   "metadata": {
    "id": "ufsg3fa0YQn1"
   },
   "outputs": [],
   "source": [
    "def accuracy(data_iter, model):\n",
    "    accumulator = Accumulator(2)\n",
    "    for X, y in data_iter:\n",
    "        X = tf.reshape(X, (-1, n_features))\n",
    "        logits = model.forward(X)\n",
    "        y_pred = tf.argmax(logits, axis=1, output_type=tf.dtypes.int32)\n",
    "        m = tf.reduce_sum(tf.cast(y_pred == y, dtype=tf.dtypes.int32))\n",
    "        n = y.shape[0]\n",
    "        accumulator.add(m, n)\n",
    "    return accumulator[0] * 1.0 / accumulator[1]"
   ]
  },
  {
   "cell_type": "code",
   "execution_count": 16,
   "metadata": {
    "id": "0lgwlx7TYSmw"
   },
   "outputs": [],
   "source": [
    "class Accumulator:\n",
    "    \"\"\"在n个变量上累加\"\"\"\n",
    "    def __init__(self, n):\n",
    "        self.data = [0.0] * n\n",
    "\n",
    "    def add(self, *args):\n",
    "        self.data = [a + float(b) for a, b in zip(self.data, args)]\n",
    "\n",
    "    def reset(self):\n",
    "        self.data = [0.0] * len(self.data)\n",
    "\n",
    "    def __getitem__(self, idx):\n",
    "        return self.data[idx]"
   ]
  },
  {
   "cell_type": "code",
   "execution_count": 17,
   "metadata": {
    "id": "fCbIrZakYUma"
   },
   "outputs": [],
   "source": [
    "lr = 0.01\n",
    "num_epochs = 200\n",
    "loss = loss\n",
    "batch_size = 256"
   ]
  },
  {
   "cell_type": "code",
   "execution_count": 18,
   "metadata": {
    "id": "l45mTq44iFTC"
   },
   "outputs": [],
   "source": [
    "class ModelV2(object):\n",
    "    def __init__(self, n_features, hidden_outputs_1, hidden_outputs_2, n_outputs):\n",
    "        self.w1 = tf.Variable(tf.random.normal(shape=[n_features, hidden_outputs_1], mean=0, stddev=0.01), trainable=True)\n",
    "        self.b1 = tf.Variable(tf.random.normal(shape=[hidden_outputs_1], mean=0, stddev=0.01), trainable=True)\n",
    "        self.w2 = tf.Variable(tf.random.normal(shape=[hidden_outputs_1, hidden_outputs_2], mean=0, stddev=0.01), trainable=True)\n",
    "        self.b2 = tf.Variable(tf.random.normal(shape=[hidden_outputs_2], mean=0, stddev=0.01), trainable=True)\n",
    "        self.w3 = tf.Variable(tf.random.normal(shape=[hidden_outputs_2, n_outputs], mean=0, stddev=0.01), trainable=True)\n",
    "        self.b3 = tf.Variable(tf.random.normal(shape=[n_outputs], mean=0, stddev=0.01), trainable=True)\n",
    "\n",
    "        self.trainable_variables = [self.w1, self.b1, self.w2, self.b2, self.w3, self.b3]\n",
    "    \n",
    "    def forward(self, X):\n",
    "        hidden_1 = tf.nn.relu(tf.matmul(X, self.w1) + self.b1)\n",
    "        hidden_2 = tf.nn.relu(tf.matmul(hidden_1, self.w2) + self.b2)\n",
    "        output = softmax(tf.matmul(hidden_2, self.w3) + self.b3)\n",
    "        return output"
   ]
  },
  {
   "cell_type": "code",
   "execution_count": null,
   "metadata": {
    "id": "U_Hr5iL_YZYM"
   },
   "outputs": [],
   "source": [
    "model = ModelV2(n_features, 50, 30, n_labels)\n",
    "for epoch in range(num_epochs):\n",
    "    for X, y in train_iter:\n",
    "        X = tf.reshape(X, (-1, n_features))\n",
    "        with tf.GradientTape() as g:\n",
    "            y_pred = model.forward(X)\n",
    "            l = loss(y_pred, y, n_labels)\n",
    "        params = model.trainable_variables\n",
    "        grads = g.gradient(l, params)\n",
    "        sgd(params, grads, lr, batch_size)\n",
    "    print(accuracy(test_iter, model))\n",
    "    "
   ]
  },
  {
   "cell_type": "code",
   "execution_count": 20,
   "metadata": {
    "id": "t9TQoAnooKXB"
   },
   "outputs": [],
   "source": [
    "def sigmoid(x):\n",
    "    return 1.0 / (1.0 + tf.exp(-x))"
   ]
  },
  {
   "cell_type": "code",
   "execution_count": 21,
   "metadata": {
    "id": "DTVxkvaqmfQg"
   },
   "outputs": [],
   "source": [
    "class ModelV3(object):\n",
    "    def __init__(self):\n",
    "        self.w1 = tf.transpose(tf.Variable([[1, 0], [-1, 0], [0, 1]], dtype=tf.dtypes.float32))\n",
    "        self.b1 = 0\n",
    "        self.w2 = tf.Variable([[1], [1], [-1]], dtype=tf.dtypes.float32)\n",
    "        self.b2 = 0\n",
    "\n",
    "    def forward(self, X):\n",
    "        hidden = tf.nn.relu(tf.matmul(X, self.w1) + self.b1)\n",
    "        output = sigmoid(tf.matmul(hidden, self.w2) + self.b2)\n",
    "        return output\n",
    "\n",
    "    def predict(self, X):\n",
    "        output = self.forward(X)\n",
    "        return tf.reshape(tf.cast(tf.math.greater(output, 0.5), dtype=tf.dtypes.int32), (len(output)))"
   ]
  },
  {
   "cell_type": "code",
   "execution_count": 22,
   "metadata": {
    "id": "a_PpVWArZ1mI"
   },
   "outputs": [],
   "source": [
    "X = tf.constant([[-2, 1], [2, 1], [0, 0.5], [0, 2]], dtype=tf.dtypes.float32)\n",
    "y = tf.constant([1, 1, 0, 0], dtype=tf.dtypes.int32)"
   ]
  },
  {
   "cell_type": "code",
   "execution_count": 23,
   "metadata": {
    "colab": {
     "base_uri": "https://localhost:8080/"
    },
    "id": "98mHYkJRoapP",
    "outputId": "06c690f8-a989-423a-f80d-e58edd6f2511"
   },
   "outputs": [
    {
     "name": "stdout",
     "output_type": "stream",
     "text": [
      "tf.Tensor([1 1 0 0], shape=(4,), dtype=int32)\n"
     ]
    }
   ],
   "source": [
    "model = ModelV3()\n",
    "print(model.predict(X))"
   ]
  },
  {
   "cell_type": "code",
   "execution_count": 24,
   "metadata": {
    "id": "e8MYTlAzeuge"
   },
   "outputs": [],
   "source": [
    "def accuracy_v2(X, y, model):\n",
    "    accumulator = Accumulator(2)\n",
    "    logits = model.forward(X)\n",
    "    y_pred = tf.argmax(logits, axis=1, output_type=tf.dtypes.int32)\n",
    "    print(y_pred)\n",
    "    m = tf.reduce_sum(tf.cast(y_pred == y, dtype=tf.dtypes.int32))\n",
    "    n = y.shape[0]\n",
    "    accumulator.add(m, n)\n",
    "    return accumulator[0] * 1.0 / accumulator[1]"
   ]
  },
  {
   "cell_type": "code",
   "execution_count": 25,
   "metadata": {
    "colab": {
     "base_uri": "https://localhost:8080/"
    },
    "id": "33JoYzLBeWrH",
    "outputId": "eaf1ab8f-b537-4a7b-8b9c-9bc7bb62a0c8"
   },
   "outputs": [
    {
     "name": "stdout",
     "output_type": "stream",
     "text": [
      "tf.Tensor(2.7726192, shape=(), dtype=float32)\n",
      "tf.Tensor([0 0 0 0], shape=(4,), dtype=int32)\n",
      "0.5\n",
      "tf.Tensor(2.772591, shape=(), dtype=float32)\n",
      "tf.Tensor([0 0 0 0], shape=(4,), dtype=int32)\n",
      "0.5\n",
      "tf.Tensor(2.7725897, shape=(), dtype=float32)\n",
      "tf.Tensor([0 0 0 0], shape=(4,), dtype=int32)\n",
      "0.5\n",
      "tf.Tensor(2.7725897, shape=(), dtype=float32)\n",
      "tf.Tensor([0 0 0 0], shape=(4,), dtype=int32)\n",
      "0.5\n",
      "tf.Tensor(2.7725897, shape=(), dtype=float32)\n",
      "tf.Tensor([0 0 0 0], shape=(4,), dtype=int32)\n",
      "0.5\n",
      "tf.Tensor(2.7725894, shape=(), dtype=float32)\n",
      "tf.Tensor([0 0 0 0], shape=(4,), dtype=int32)\n",
      "0.5\n",
      "tf.Tensor(2.7725894, shape=(), dtype=float32)\n",
      "tf.Tensor([0 0 1 1], shape=(4,), dtype=int32)\n",
      "0.0\n",
      "tf.Tensor(2.7725892, shape=(), dtype=float32)\n",
      "tf.Tensor([1 0 1 1], shape=(4,), dtype=int32)\n",
      "0.25\n",
      "tf.Tensor(2.7725894, shape=(), dtype=float32)\n",
      "tf.Tensor([1 0 1 1], shape=(4,), dtype=int32)\n",
      "0.25\n",
      "tf.Tensor(2.7725892, shape=(), dtype=float32)\n",
      "tf.Tensor([1 0 1 1], shape=(4,), dtype=int32)\n",
      "0.25\n",
      "tf.Tensor(2.7725892, shape=(), dtype=float32)\n",
      "tf.Tensor([1 0 1 1], shape=(4,), dtype=int32)\n",
      "0.25\n",
      "tf.Tensor(2.7725892, shape=(), dtype=float32)\n",
      "tf.Tensor([1 0 1 1], shape=(4,), dtype=int32)\n",
      "0.25\n",
      "tf.Tensor(2.7725892, shape=(), dtype=float32)\n",
      "tf.Tensor([1 0 1 1], shape=(4,), dtype=int32)\n",
      "0.25\n",
      "tf.Tensor(2.7725892, shape=(), dtype=float32)\n",
      "tf.Tensor([1 0 1 1], shape=(4,), dtype=int32)\n",
      "0.25\n",
      "tf.Tensor(2.7725892, shape=(), dtype=float32)\n",
      "tf.Tensor([1 0 1 1], shape=(4,), dtype=int32)\n",
      "0.25\n",
      "tf.Tensor(2.7725892, shape=(), dtype=float32)\n",
      "tf.Tensor([1 0 1 1], shape=(4,), dtype=int32)\n",
      "0.25\n",
      "tf.Tensor(2.7725892, shape=(), dtype=float32)\n",
      "tf.Tensor([1 0 1 1], shape=(4,), dtype=int32)\n",
      "0.25\n",
      "tf.Tensor(2.7725892, shape=(), dtype=float32)\n",
      "tf.Tensor([1 0 1 1], shape=(4,), dtype=int32)\n",
      "0.25\n",
      "tf.Tensor(2.7725892, shape=(), dtype=float32)\n",
      "tf.Tensor([1 0 1 1], shape=(4,), dtype=int32)\n",
      "0.25\n",
      "tf.Tensor(2.772589, shape=(), dtype=float32)\n",
      "tf.Tensor([1 0 1 1], shape=(4,), dtype=int32)\n",
      "0.25\n",
      "tf.Tensor(2.772589, shape=(), dtype=float32)\n",
      "tf.Tensor([1 0 1 1], shape=(4,), dtype=int32)\n",
      "0.25\n",
      "tf.Tensor(2.7725892, shape=(), dtype=float32)\n",
      "tf.Tensor([1 0 1 1], shape=(4,), dtype=int32)\n",
      "0.25\n",
      "tf.Tensor(2.772589, shape=(), dtype=float32)\n",
      "tf.Tensor([1 0 1 1], shape=(4,), dtype=int32)\n",
      "0.25\n",
      "tf.Tensor(2.7725892, shape=(), dtype=float32)\n",
      "tf.Tensor([1 0 1 1], shape=(4,), dtype=int32)\n",
      "0.25\n",
      "tf.Tensor(2.7725892, shape=(), dtype=float32)\n",
      "tf.Tensor([1 0 1 1], shape=(4,), dtype=int32)\n",
      "0.25\n",
      "tf.Tensor(2.7725892, shape=(), dtype=float32)\n",
      "tf.Tensor([1 0 1 1], shape=(4,), dtype=int32)\n",
      "0.25\n",
      "tf.Tensor(2.7725892, shape=(), dtype=float32)\n",
      "tf.Tensor([1 0 1 1], shape=(4,), dtype=int32)\n",
      "0.25\n",
      "tf.Tensor(2.7725892, shape=(), dtype=float32)\n",
      "tf.Tensor([1 0 1 1], shape=(4,), dtype=int32)\n",
      "0.25\n",
      "tf.Tensor(2.7725892, shape=(), dtype=float32)\n",
      "tf.Tensor([1 0 1 1], shape=(4,), dtype=int32)\n",
      "0.25\n",
      "tf.Tensor(2.7725892, shape=(), dtype=float32)\n",
      "tf.Tensor([1 0 1 1], shape=(4,), dtype=int32)\n",
      "0.25\n",
      "tf.Tensor(2.7725892, shape=(), dtype=float32)\n",
      "tf.Tensor([1 0 1 1], shape=(4,), dtype=int32)\n",
      "0.25\n",
      "tf.Tensor(2.772589, shape=(), dtype=float32)\n",
      "tf.Tensor([1 0 1 1], shape=(4,), dtype=int32)\n",
      "0.25\n",
      "tf.Tensor(2.772589, shape=(), dtype=float32)\n",
      "tf.Tensor([1 0 1 1], shape=(4,), dtype=int32)\n",
      "0.25\n",
      "tf.Tensor(2.7725892, shape=(), dtype=float32)\n",
      "tf.Tensor([1 0 1 1], shape=(4,), dtype=int32)\n",
      "0.25\n",
      "tf.Tensor(2.772589, shape=(), dtype=float32)\n",
      "tf.Tensor([1 0 1 0], shape=(4,), dtype=int32)\n",
      "0.5\n",
      "tf.Tensor(2.7725887, shape=(), dtype=float32)\n",
      "tf.Tensor([1 0 1 1], shape=(4,), dtype=int32)\n",
      "0.25\n",
      "tf.Tensor(2.772589, shape=(), dtype=float32)\n",
      "tf.Tensor([1 0 1 0], shape=(4,), dtype=int32)\n",
      "0.5\n",
      "tf.Tensor(2.7725887, shape=(), dtype=float32)\n",
      "tf.Tensor([1 0 1 0], shape=(4,), dtype=int32)\n",
      "0.5\n",
      "tf.Tensor(2.7725887, shape=(), dtype=float32)\n",
      "tf.Tensor([1 0 0 0], shape=(4,), dtype=int32)\n",
      "0.75\n",
      "tf.Tensor(2.7725887, shape=(), dtype=float32)\n",
      "tf.Tensor([1 0 1 0], shape=(4,), dtype=int32)\n",
      "0.5\n",
      "tf.Tensor(2.772589, shape=(), dtype=float32)\n",
      "tf.Tensor([1 0 0 0], shape=(4,), dtype=int32)\n",
      "0.75\n",
      "tf.Tensor(2.7725887, shape=(), dtype=float32)\n",
      "tf.Tensor([1 0 1 0], shape=(4,), dtype=int32)\n",
      "0.5\n",
      "tf.Tensor(2.772589, shape=(), dtype=float32)\n",
      "tf.Tensor([1 0 0 0], shape=(4,), dtype=int32)\n",
      "0.75\n",
      "tf.Tensor(2.772589, shape=(), dtype=float32)\n",
      "tf.Tensor([1 0 1 0], shape=(4,), dtype=int32)\n",
      "0.5\n",
      "tf.Tensor(2.7725887, shape=(), dtype=float32)\n",
      "tf.Tensor([1 0 1 0], shape=(4,), dtype=int32)\n",
      "0.5\n",
      "tf.Tensor(2.772589, shape=(), dtype=float32)\n",
      "tf.Tensor([1 0 1 0], shape=(4,), dtype=int32)\n",
      "0.5\n",
      "tf.Tensor(2.772589, shape=(), dtype=float32)\n",
      "tf.Tensor([1 0 1 0], shape=(4,), dtype=int32)\n",
      "0.5\n",
      "tf.Tensor(2.7725892, shape=(), dtype=float32)\n",
      "tf.Tensor([1 0 1 0], shape=(4,), dtype=int32)\n",
      "0.5\n",
      "tf.Tensor(2.772589, shape=(), dtype=float32)\n",
      "tf.Tensor([1 0 1 0], shape=(4,), dtype=int32)\n",
      "0.5\n",
      "tf.Tensor(2.7725887, shape=(), dtype=float32)\n",
      "tf.Tensor([1 0 1 0], shape=(4,), dtype=int32)\n",
      "0.5\n",
      "tf.Tensor(2.7725892, shape=(), dtype=float32)\n",
      "tf.Tensor([1 0 1 0], shape=(4,), dtype=int32)\n",
      "0.5\n",
      "tf.Tensor(2.7725887, shape=(), dtype=float32)\n",
      "tf.Tensor([1 0 1 0], shape=(4,), dtype=int32)\n",
      "0.5\n",
      "tf.Tensor(2.7725887, shape=(), dtype=float32)\n",
      "tf.Tensor([1 0 1 0], shape=(4,), dtype=int32)\n",
      "0.5\n",
      "tf.Tensor(2.772589, shape=(), dtype=float32)\n",
      "tf.Tensor([1 0 1 0], shape=(4,), dtype=int32)\n",
      "0.5\n",
      "tf.Tensor(2.772589, shape=(), dtype=float32)\n",
      "tf.Tensor([1 0 1 0], shape=(4,), dtype=int32)\n",
      "0.5\n",
      "tf.Tensor(2.7725887, shape=(), dtype=float32)\n",
      "tf.Tensor([1 0 1 0], shape=(4,), dtype=int32)\n",
      "0.5\n",
      "tf.Tensor(2.7725887, shape=(), dtype=float32)\n",
      "tf.Tensor([1 0 1 0], shape=(4,), dtype=int32)\n",
      "0.5\n",
      "tf.Tensor(2.7725887, shape=(), dtype=float32)\n",
      "tf.Tensor([1 0 1 0], shape=(4,), dtype=int32)\n",
      "0.5\n",
      "tf.Tensor(2.7725887, shape=(), dtype=float32)\n",
      "tf.Tensor([1 0 1 0], shape=(4,), dtype=int32)\n",
      "0.5\n",
      "tf.Tensor(2.772589, shape=(), dtype=float32)\n",
      "tf.Tensor([1 0 1 0], shape=(4,), dtype=int32)\n",
      "0.5\n",
      "tf.Tensor(2.7725887, shape=(), dtype=float32)\n",
      "tf.Tensor([1 0 1 0], shape=(4,), dtype=int32)\n",
      "0.5\n",
      "tf.Tensor(2.772589, shape=(), dtype=float32)\n",
      "tf.Tensor([1 0 1 0], shape=(4,), dtype=int32)\n",
      "0.5\n",
      "tf.Tensor(2.7725887, shape=(), dtype=float32)\n",
      "tf.Tensor([1 0 1 0], shape=(4,), dtype=int32)\n",
      "0.5\n",
      "tf.Tensor(2.772589, shape=(), dtype=float32)\n",
      "tf.Tensor([1 0 1 0], shape=(4,), dtype=int32)\n",
      "0.5\n",
      "tf.Tensor(2.772589, shape=(), dtype=float32)\n",
      "tf.Tensor([1 0 1 0], shape=(4,), dtype=int32)\n",
      "0.5\n",
      "tf.Tensor(2.7725887, shape=(), dtype=float32)\n",
      "tf.Tensor([1 0 1 0], shape=(4,), dtype=int32)\n",
      "0.5\n",
      "tf.Tensor(2.772589, shape=(), dtype=float32)\n",
      "tf.Tensor([1 0 1 0], shape=(4,), dtype=int32)\n",
      "0.5\n",
      "tf.Tensor(2.7725887, shape=(), dtype=float32)\n",
      "tf.Tensor([1 0 1 0], shape=(4,), dtype=int32)\n",
      "0.5\n",
      "tf.Tensor(2.772589, shape=(), dtype=float32)\n",
      "tf.Tensor([1 0 1 0], shape=(4,), dtype=int32)\n",
      "0.5\n",
      "tf.Tensor(2.7725887, shape=(), dtype=float32)\n",
      "tf.Tensor([1 0 1 0], shape=(4,), dtype=int32)\n",
      "0.5\n",
      "tf.Tensor(2.7725887, shape=(), dtype=float32)\n",
      "tf.Tensor([1 0 1 0], shape=(4,), dtype=int32)\n",
      "0.5\n",
      "tf.Tensor(2.7725887, shape=(), dtype=float32)\n",
      "tf.Tensor([1 0 1 0], shape=(4,), dtype=int32)\n",
      "0.5\n",
      "tf.Tensor(2.7725887, shape=(), dtype=float32)\n",
      "tf.Tensor([1 0 1 0], shape=(4,), dtype=int32)\n",
      "0.5\n",
      "tf.Tensor(2.7725887, shape=(), dtype=float32)\n",
      "tf.Tensor([1 0 1 0], shape=(4,), dtype=int32)\n",
      "0.5\n",
      "tf.Tensor(2.7725887, shape=(), dtype=float32)\n",
      "tf.Tensor([1 0 1 0], shape=(4,), dtype=int32)\n",
      "0.5\n",
      "tf.Tensor(2.7725887, shape=(), dtype=float32)\n",
      "tf.Tensor([1 0 1 0], shape=(4,), dtype=int32)\n",
      "0.5\n",
      "tf.Tensor(2.7725887, shape=(), dtype=float32)\n",
      "tf.Tensor([1 0 1 0], shape=(4,), dtype=int32)\n",
      "0.5\n",
      "tf.Tensor(2.7725887, shape=(), dtype=float32)\n",
      "tf.Tensor([1 0 1 0], shape=(4,), dtype=int32)\n",
      "0.5\n",
      "tf.Tensor(2.7725887, shape=(), dtype=float32)\n",
      "tf.Tensor([1 0 1 0], shape=(4,), dtype=int32)\n",
      "0.5\n",
      "tf.Tensor(2.7725887, shape=(), dtype=float32)\n",
      "tf.Tensor([1 0 1 0], shape=(4,), dtype=int32)\n",
      "0.5\n",
      "tf.Tensor(2.7725887, shape=(), dtype=float32)\n",
      "tf.Tensor([1 0 1 0], shape=(4,), dtype=int32)\n",
      "0.5\n",
      "tf.Tensor(2.7725887, shape=(), dtype=float32)\n",
      "tf.Tensor([1 0 1 0], shape=(4,), dtype=int32)\n",
      "0.5\n",
      "tf.Tensor(2.7725887, shape=(), dtype=float32)\n",
      "tf.Tensor([1 0 1 0], shape=(4,), dtype=int32)\n",
      "0.5\n",
      "tf.Tensor(2.7725887, shape=(), dtype=float32)\n",
      "tf.Tensor([1 0 1 0], shape=(4,), dtype=int32)\n",
      "0.5\n",
      "tf.Tensor(2.7725887, shape=(), dtype=float32)\n",
      "tf.Tensor([1 0 1 0], shape=(4,), dtype=int32)\n",
      "0.5\n",
      "tf.Tensor(2.7725887, shape=(), dtype=float32)\n",
      "tf.Tensor([1 0 1 0], shape=(4,), dtype=int32)\n",
      "0.5\n",
      "tf.Tensor(2.7725887, shape=(), dtype=float32)\n",
      "tf.Tensor([1 0 0 0], shape=(4,), dtype=int32)\n",
      "0.75\n",
      "tf.Tensor(2.7725887, shape=(), dtype=float32)\n",
      "tf.Tensor([1 0 1 0], shape=(4,), dtype=int32)\n",
      "0.5\n",
      "tf.Tensor(2.7725885, shape=(), dtype=float32)\n",
      "tf.Tensor([1 0 1 0], shape=(4,), dtype=int32)\n",
      "0.5\n",
      "tf.Tensor(2.7725887, shape=(), dtype=float32)\n",
      "tf.Tensor([1 0 0 0], shape=(4,), dtype=int32)\n",
      "0.75\n",
      "tf.Tensor(2.7725887, shape=(), dtype=float32)\n",
      "tf.Tensor([1 0 1 0], shape=(4,), dtype=int32)\n",
      "0.5\n",
      "tf.Tensor(2.7725887, shape=(), dtype=float32)\n",
      "tf.Tensor([1 0 1 0], shape=(4,), dtype=int32)\n",
      "0.5\n",
      "tf.Tensor(2.7725887, shape=(), dtype=float32)\n",
      "tf.Tensor([1 0 0 0], shape=(4,), dtype=int32)\n",
      "0.75\n",
      "tf.Tensor(2.7725887, shape=(), dtype=float32)\n",
      "tf.Tensor([1 0 1 0], shape=(4,), dtype=int32)\n",
      "0.5\n",
      "tf.Tensor(2.7725885, shape=(), dtype=float32)\n",
      "tf.Tensor([1 0 1 0], shape=(4,), dtype=int32)\n",
      "0.5\n",
      "tf.Tensor(2.7725887, shape=(), dtype=float32)\n",
      "tf.Tensor([1 0 1 0], shape=(4,), dtype=int32)\n",
      "0.5\n",
      "tf.Tensor(2.7725887, shape=(), dtype=float32)\n",
      "tf.Tensor([1 0 1 0], shape=(4,), dtype=int32)\n",
      "0.5\n",
      "tf.Tensor(2.7725885, shape=(), dtype=float32)\n",
      "tf.Tensor([1 0 1 0], shape=(4,), dtype=int32)\n",
      "0.5\n",
      "tf.Tensor(2.7725887, shape=(), dtype=float32)\n",
      "tf.Tensor([1 0 1 0], shape=(4,), dtype=int32)\n",
      "0.5\n",
      "tf.Tensor(2.7725883, shape=(), dtype=float32)\n",
      "tf.Tensor([1 0 1 0], shape=(4,), dtype=int32)\n",
      "0.5\n"
     ]
    }
   ],
   "source": [
    "lr = 100\n",
    "model = ModelV2(2, 10, 5, 2)\n",
    "for epoch in range(100):\n",
    "    with tf.GradientTape() as g:\n",
    "        y_pred = model.forward(X)\n",
    "        l = loss(y_pred, y, 2)\n",
    "    params = model.trainable_variables\n",
    "    grads = g.gradient(l, params)\n",
    "    sgd(params, grads, lr, batch_size)\n",
    "    print(tf.reduce_sum(l))\n",
    "    print(accuracy_v2(X, y, model))"
   ]
  },
  {
   "cell_type": "code",
   "execution_count": null,
   "metadata": {},
   "outputs": [],
   "source": []
  }
 ],
 "metadata": {
  "colab": {
   "provenance": []
  },
  "kernelspec": {
   "display_name": "Python 3",
   "language": "python",
   "name": "python3"
  },
  "language_info": {
   "codemirror_mode": {
    "name": "ipython",
    "version": 3
   },
   "file_extension": ".py",
   "mimetype": "text/x-python",
   "name": "python",
   "nbconvert_exporter": "python",
   "pygments_lexer": "ipython3",
   "version": "3.7.4"
  }
 },
 "nbformat": 4,
 "nbformat_minor": 1
}
